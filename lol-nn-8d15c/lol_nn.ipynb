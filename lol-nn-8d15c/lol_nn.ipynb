{
 "cells": [
  {
   "cell_type": "markdown",
   "metadata": {},
   "source": [
    "# Predicting League of Legends Matches via PyTorch"
   ]
  },
  {
   "cell_type": "code",
   "execution_count": 1,
   "metadata": {},
   "outputs": [],
   "source": [
    "#env\n",
    "import jovian\n",
    "import numpy as np\n",
    "import pandas as pd\n",
    "import matplotlib.pyplot as plt\n",
    "import torch\n",
    "import torch.nn as nn\n",
    "import torch.nn.functional as F\n",
    "from torch.utils.data import random_split, TensorDataset, DataLoader"
   ]
  },
  {
   "cell_type": "code",
   "execution_count": 2,
   "metadata": {},
   "outputs": [],
   "source": [
    "proj_name = 'lol_nn'"
   ]
  },
  {
   "cell_type": "markdown",
   "metadata": {},
   "source": [
    "---"
   ]
  },
  {
   "cell_type": "code",
   "execution_count": 3,
   "metadata": {},
   "outputs": [],
   "source": [
    "df = pd.read_csv('high_diamond_ranked_10min.csv') #df = pd.read_csv('/notebooks/storage/high_diamond_ranked_10min.csv')\n"
   ]
  },
  {
   "cell_type": "code",
   "execution_count": 4,
   "metadata": {},
   "outputs": [],
   "source": [
    "df.drop(['gameId','redFirstBlood','blueTotalGold','redTotalGold','blueTotalExperience','redTotalExperience','redGoldDiff','redExperienceDiff','redKills','redDeaths'], axis=1, inplace=True)"
   ]
  },
  {
   "cell_type": "code",
   "execution_count": 5,
   "metadata": {},
   "outputs": [
    {
     "data": {
      "text/html": [
       "<div>\n",
       "<style scoped>\n",
       "    .dataframe tbody tr th:only-of-type {\n",
       "        vertical-align: middle;\n",
       "    }\n",
       "\n",
       "    .dataframe tbody tr th {\n",
       "        vertical-align: top;\n",
       "    }\n",
       "\n",
       "    .dataframe thead th {\n",
       "        text-align: right;\n",
       "    }\n",
       "</style>\n",
       "<table border=\"1\" class=\"dataframe\">\n",
       "  <thead>\n",
       "    <tr style=\"text-align: right;\">\n",
       "      <th></th>\n",
       "      <th>blueWins</th>\n",
       "      <th>blueWardsPlaced</th>\n",
       "      <th>blueWardsDestroyed</th>\n",
       "      <th>blueFirstBlood</th>\n",
       "      <th>blueKills</th>\n",
       "      <th>blueDeaths</th>\n",
       "      <th>blueAssists</th>\n",
       "      <th>blueEliteMonsters</th>\n",
       "      <th>blueDragons</th>\n",
       "      <th>blueHeralds</th>\n",
       "      <th>...</th>\n",
       "      <th>redAssists</th>\n",
       "      <th>redEliteMonsters</th>\n",
       "      <th>redDragons</th>\n",
       "      <th>redHeralds</th>\n",
       "      <th>redTowersDestroyed</th>\n",
       "      <th>redAvgLevel</th>\n",
       "      <th>redTotalMinionsKilled</th>\n",
       "      <th>redTotalJungleMinionsKilled</th>\n",
       "      <th>redCSPerMin</th>\n",
       "      <th>redGoldPerMin</th>\n",
       "    </tr>\n",
       "  </thead>\n",
       "  <tbody>\n",
       "    <tr>\n",
       "      <th>0</th>\n",
       "      <td>0</td>\n",
       "      <td>28</td>\n",
       "      <td>2</td>\n",
       "      <td>1</td>\n",
       "      <td>9</td>\n",
       "      <td>6</td>\n",
       "      <td>11</td>\n",
       "      <td>0</td>\n",
       "      <td>0</td>\n",
       "      <td>0</td>\n",
       "      <td>...</td>\n",
       "      <td>8</td>\n",
       "      <td>0</td>\n",
       "      <td>0</td>\n",
       "      <td>0</td>\n",
       "      <td>0</td>\n",
       "      <td>6.8</td>\n",
       "      <td>197</td>\n",
       "      <td>55</td>\n",
       "      <td>19.7</td>\n",
       "      <td>1656.7</td>\n",
       "    </tr>\n",
       "    <tr>\n",
       "      <th>1</th>\n",
       "      <td>0</td>\n",
       "      <td>12</td>\n",
       "      <td>1</td>\n",
       "      <td>0</td>\n",
       "      <td>5</td>\n",
       "      <td>5</td>\n",
       "      <td>5</td>\n",
       "      <td>0</td>\n",
       "      <td>0</td>\n",
       "      <td>0</td>\n",
       "      <td>...</td>\n",
       "      <td>2</td>\n",
       "      <td>2</td>\n",
       "      <td>1</td>\n",
       "      <td>1</td>\n",
       "      <td>1</td>\n",
       "      <td>6.8</td>\n",
       "      <td>240</td>\n",
       "      <td>52</td>\n",
       "      <td>24.0</td>\n",
       "      <td>1762.0</td>\n",
       "    </tr>\n",
       "    <tr>\n",
       "      <th>2</th>\n",
       "      <td>0</td>\n",
       "      <td>15</td>\n",
       "      <td>0</td>\n",
       "      <td>0</td>\n",
       "      <td>7</td>\n",
       "      <td>11</td>\n",
       "      <td>4</td>\n",
       "      <td>1</td>\n",
       "      <td>1</td>\n",
       "      <td>0</td>\n",
       "      <td>...</td>\n",
       "      <td>14</td>\n",
       "      <td>0</td>\n",
       "      <td>0</td>\n",
       "      <td>0</td>\n",
       "      <td>0</td>\n",
       "      <td>6.8</td>\n",
       "      <td>203</td>\n",
       "      <td>28</td>\n",
       "      <td>20.3</td>\n",
       "      <td>1728.5</td>\n",
       "    </tr>\n",
       "    <tr>\n",
       "      <th>3</th>\n",
       "      <td>0</td>\n",
       "      <td>43</td>\n",
       "      <td>1</td>\n",
       "      <td>0</td>\n",
       "      <td>4</td>\n",
       "      <td>5</td>\n",
       "      <td>5</td>\n",
       "      <td>1</td>\n",
       "      <td>0</td>\n",
       "      <td>1</td>\n",
       "      <td>...</td>\n",
       "      <td>10</td>\n",
       "      <td>0</td>\n",
       "      <td>0</td>\n",
       "      <td>0</td>\n",
       "      <td>0</td>\n",
       "      <td>7.0</td>\n",
       "      <td>235</td>\n",
       "      <td>47</td>\n",
       "      <td>23.5</td>\n",
       "      <td>1647.8</td>\n",
       "    </tr>\n",
       "    <tr>\n",
       "      <th>4</th>\n",
       "      <td>0</td>\n",
       "      <td>75</td>\n",
       "      <td>4</td>\n",
       "      <td>0</td>\n",
       "      <td>6</td>\n",
       "      <td>6</td>\n",
       "      <td>6</td>\n",
       "      <td>0</td>\n",
       "      <td>0</td>\n",
       "      <td>0</td>\n",
       "      <td>...</td>\n",
       "      <td>7</td>\n",
       "      <td>1</td>\n",
       "      <td>1</td>\n",
       "      <td>0</td>\n",
       "      <td>0</td>\n",
       "      <td>7.0</td>\n",
       "      <td>225</td>\n",
       "      <td>67</td>\n",
       "      <td>22.5</td>\n",
       "      <td>1740.4</td>\n",
       "    </tr>\n",
       "  </tbody>\n",
       "</table>\n",
       "<p>5 rows × 30 columns</p>\n",
       "</div>"
      ],
      "text/plain": [
       "   blueWins  blueWardsPlaced  blueWardsDestroyed  blueFirstBlood  blueKills  \\\n",
       "0         0               28                   2               1          9   \n",
       "1         0               12                   1               0          5   \n",
       "2         0               15                   0               0          7   \n",
       "3         0               43                   1               0          4   \n",
       "4         0               75                   4               0          6   \n",
       "\n",
       "   blueDeaths  blueAssists  blueEliteMonsters  blueDragons  blueHeralds  ...  \\\n",
       "0           6           11                  0            0            0  ...   \n",
       "1           5            5                  0            0            0  ...   \n",
       "2          11            4                  1            1            0  ...   \n",
       "3           5            5                  1            0            1  ...   \n",
       "4           6            6                  0            0            0  ...   \n",
       "\n",
       "   redAssists  redEliteMonsters  redDragons  redHeralds  redTowersDestroyed  \\\n",
       "0           8                 0           0           0                   0   \n",
       "1           2                 2           1           1                   1   \n",
       "2          14                 0           0           0                   0   \n",
       "3          10                 0           0           0                   0   \n",
       "4           7                 1           1           0                   0   \n",
       "\n",
       "   redAvgLevel  redTotalMinionsKilled  redTotalJungleMinionsKilled  \\\n",
       "0          6.8                    197                           55   \n",
       "1          6.8                    240                           52   \n",
       "2          6.8                    203                           28   \n",
       "3          7.0                    235                           47   \n",
       "4          7.0                    225                           67   \n",
       "\n",
       "   redCSPerMin  redGoldPerMin  \n",
       "0         19.7         1656.7  \n",
       "1         24.0         1762.0  \n",
       "2         20.3         1728.5  \n",
       "3         23.5         1647.8  \n",
       "4         22.5         1740.4  \n",
       "\n",
       "[5 rows x 30 columns]"
      ]
     },
     "execution_count": 5,
     "metadata": {},
     "output_type": "execute_result"
    }
   ],
   "source": [
    "df.head()"
   ]
  },
  {
   "cell_type": "code",
   "execution_count": 6,
   "metadata": {},
   "outputs": [],
   "source": [
    "targets = df[['blueWins']].values.flatten()\n",
    "features = df.drop('blueWins', axis=1).values"
   ]
  },
  {
   "cell_type": "code",
   "execution_count": 7,
   "metadata": {},
   "outputs": [
    {
     "data": {
      "text/plain": [
       "(7905, 987, 987)"
      ]
     },
     "execution_count": 7,
     "metadata": {},
     "output_type": "execute_result"
    }
   ],
   "source": [
    "test_size = int(.10 * 9879) # represents size of validation set\n",
    "val_size = test_size\n",
    "train_size = 9879 - test_size*2\n",
    "train_size , val_size, test_size"
   ]
  },
  {
   "cell_type": "code",
   "execution_count": 8,
   "metadata": {},
   "outputs": [],
   "source": [
    "dataset = TensorDataset(torch.tensor(features).float(), torch.tensor(targets))\n",
    "train_ds, val_ds, test_ds = random_split(dataset, [train_size, val_size, test_size])"
   ]
  },
  {
   "cell_type": "code",
   "execution_count": 9,
   "metadata": {},
   "outputs": [],
   "source": [
    "batch_size = 128"
   ]
  },
  {
   "cell_type": "code",
   "execution_count": 10,
   "metadata": {},
   "outputs": [],
   "source": [
    "train_loader = DataLoader(train_ds, batch_size, shuffle=True, num_workers=4, pin_memory=True)\n",
    "val_loader = DataLoader(val_ds, batch_size*2, num_workers=4, pin_memory=True)\n",
    "test_loader = DataLoader(test_ds, batch_size*2, pin_memory=True)"
   ]
  },
  {
   "cell_type": "code",
   "execution_count": 11,
   "metadata": {},
   "outputs": [
    {
     "name": "stdout",
     "output_type": "stream",
     "text": [
      "torch.Size([128, 29]) torch.Size([128])\n"
     ]
    }
   ],
   "source": [
    "for x,y in train_loader:\n",
    "    print(x.shape, y.shape)\n",
    "    break"
   ]
  },
  {
   "cell_type": "code",
   "execution_count": 12,
   "metadata": {},
   "outputs": [],
   "source": [
    "input_size = 29\n",
    "output_size = 2"
   ]
  },
  {
   "cell_type": "markdown",
   "metadata": {},
   "source": [
    "#### ^^^ what we've done in [part one](https://jovian.ml/richardso21/lol-logistic) ^^^"
   ]
  },
  {
   "cell_type": "markdown",
   "metadata": {},
   "source": [
    "---"
   ]
  },
  {
   "cell_type": "markdown",
   "metadata": {},
   "source": [
    "## The Model & Defining The Training Loop"
   ]
  },
  {
   "cell_type": "code",
   "execution_count": 13,
   "metadata": {},
   "outputs": [],
   "source": [
    "class LOLModelmk2(nn.Module):\n",
    "    def __init__(self):\n",
    "        super().__init__()\n",
    "        self.fc1 = nn.Linear(input_size, 64)\n",
    "        self.fc2 = nn.Linear(64, 32)\n",
    "        self.fc3 = nn.Linear(32, 16)\n",
    "        self.fc4 = nn.Linear(16, output_size)\n",
    "        \n",
    "    def forward(self, x):\n",
    "        x = self.fc1(x)\n",
    "        x = F.relu(x)\n",
    "        x = self.fc2(x)\n",
    "        x = F.relu(x)\n",
    "        x = self.fc3(x)\n",
    "        x = F.relu(x)\n",
    "        x = self.fc4(x)\n",
    "        return x"
   ]
  },
  {
   "cell_type": "code",
   "execution_count": 14,
   "metadata": {},
   "outputs": [],
   "source": [
    "crit = F.cross_entropy #criterion\n",
    "opt_func = torch.optim.SGD #optimizer function (w/o params or lr)"
   ]
  },
  {
   "cell_type": "code",
   "execution_count": 15,
   "metadata": {},
   "outputs": [],
   "source": [
    "def fit(epochs, lr, model, train_loader, val_loader):\n",
    "    h = []\n",
    "    # define optimizer\n",
    "    opt = opt_func(model.parameters(), lr=lr)\n",
    "    # loop for num of epochs\n",
    "    for epoch in range(epochs):\n",
    "        # training per epoch (iterate tru each batch)\n",
    "        for inputs, labels in train_loader:\n",
    "            # put inputs to gpu (explained later)\n",
    "            inputs, labels = inputs.to(device), labels.to(device)\n",
    "            # using optimizer & loss\n",
    "            opt.zero_grad()\n",
    "            _, loss = step(inputs, labels)\n",
    "            loss.backward()\n",
    "            opt.step()\n",
    "        # evaluate model on validation set every epoch\n",
    "        val_results = evaluate(model, val_loader)\n",
    "        # printing as output every 5 epochs\n",
    "        if (epoch + 1) % 5 == 0 or (epoch + 1) == epochs:\n",
    "            print(f'Epoch #{epoch + 1} ==> Val Loss: {val_results[\"avg_loss\"]} | Val Acc: {val_results[\"avg_acc\"]}')\n",
    "        h.append(val_results)\n",
    "    return h\n",
    "        \n",
    "def evaluate(model, loader):\n",
    "    losses = []\n",
    "    accs = []\n",
    "    # tracking gradient not needed\n",
    "    with torch.no_grad():\n",
    "        # looping over data loader\n",
    "        for inputs, labels in loader:\n",
    "            inputs, labels = inputs.to(device), labels.to(device)\n",
    "            outs, loss = step(inputs, labels, evaluate=True)\n",
    "            # computing accuracy (function below)\n",
    "            acc = accuracy(outs, labels)\n",
    "            losses.append(loss)\n",
    "            accs.append(acc)\n",
    "    # avg loss + acc for all data on loader\n",
    "    avg_loss = sum(losses) / len(losses)\n",
    "    avg_acc = sum(accs) / len(accs)\n",
    "    return {'avg_loss':avg_loss, 'avg_acc':avg_acc}\n",
    "            \n",
    "# function to input features into model (used for training + validation)\n",
    "def step(inputs, labels, evaluate=False):\n",
    "    if evaluate:\n",
    "        model.eval()\n",
    "    else:\n",
    "        model.train()\n",
    "    outs = model(inputs)\n",
    "    loss = crit(outs, labels)\n",
    "    return outs, loss\n",
    "\n",
    "def accuracy(outs, labels):\n",
    "    # find the highest probability of the two categories\n",
    "    _, preds = torch.max(outs, dim=1)\n",
    "    # return % of correct predictions (matched w/ labels)\n",
    "    return (torch.tensor(torch.sum(preds==labels).item() / len(preds))) * 100    "
   ]
  },
  {
   "cell_type": "code",
   "execution_count": 16,
   "metadata": {},
   "outputs": [],
   "source": [
    "def visualize(hist, acc=False):\n",
    "    losses = [x['avg_loss'] for x in hist]\n",
    "    accs = [x['avg_acc'] for x in hist]\n",
    "    if acc:\n",
    "        plt.plot(accs)\n",
    "        plt.ylabel('Accuracy (%)')\n",
    "        plt.title('Accuracy over Epochs')\n",
    "    else:\n",
    "        plt.plot(losses)\n",
    "        plt.ylabel('Losses')\n",
    "        plt.title('Losses over Epochs')\n",
    "    plt.xlabel('Epochs')\n",
    "    plt.show()"
   ]
  },
  {
   "cell_type": "markdown",
   "metadata": {},
   "source": [
    "---"
   ]
  },
  {
   "cell_type": "markdown",
   "metadata": {},
   "source": [
    "## Using the GPU"
   ]
  },
  {
   "cell_type": "code",
   "execution_count": 17,
   "metadata": {},
   "outputs": [
    {
     "data": {
      "text/plain": [
       "True"
      ]
     },
     "execution_count": 17,
     "metadata": {},
     "output_type": "execute_result"
    }
   ],
   "source": [
    "torch.cuda.is_available()"
   ]
  },
  {
   "cell_type": "code",
   "execution_count": 18,
   "metadata": {},
   "outputs": [],
   "source": [
    "if torch.cuda.is_available():\n",
    "    device = torch.device('cuda')\n",
    "else:\n",
    "    device = torch.device('cpu')"
   ]
  },
  {
   "cell_type": "code",
   "execution_count": 19,
   "metadata": {},
   "outputs": [
    {
     "data": {
      "text/plain": [
       "device(type='cuda')"
      ]
     },
     "execution_count": 19,
     "metadata": {},
     "output_type": "execute_result"
    }
   ],
   "source": [
    "device"
   ]
  },
  {
   "cell_type": "code",
   "execution_count": 20,
   "metadata": {},
   "outputs": [],
   "source": [
    "model = LOLModelmk2().to(device)"
   ]
  },
  {
   "cell_type": "code",
   "execution_count": 21,
   "metadata": {},
   "outputs": [
    {
     "data": {
      "text/plain": [
       "LOLModelmk2(\n",
       "  (fc1): Linear(in_features=29, out_features=64, bias=True)\n",
       "  (fc2): Linear(in_features=64, out_features=32, bias=True)\n",
       "  (fc3): Linear(in_features=32, out_features=16, bias=True)\n",
       "  (fc4): Linear(in_features=16, out_features=2, bias=True)\n",
       ")"
      ]
     },
     "execution_count": 21,
     "metadata": {},
     "output_type": "execute_result"
    }
   ],
   "source": [
    "model"
   ]
  },
  {
   "cell_type": "markdown",
   "metadata": {},
   "source": [
    "---"
   ]
  },
  {
   "cell_type": "markdown",
   "metadata": {},
   "source": [
    "## Training"
   ]
  },
  {
   "cell_type": "code",
   "execution_count": 22,
   "metadata": {},
   "outputs": [
    {
     "data": {
      "text/plain": [
       "{'avg_loss': tensor(21.6654, device='cuda:0'), 'avg_acc': tensor(50.4959)}"
      ]
     },
     "execution_count": 22,
     "metadata": {},
     "output_type": "execute_result"
    }
   ],
   "source": [
    "before_train = evaluate(model, test_loader)\n",
    "before_train"
   ]
  },
  {
   "cell_type": "code",
   "execution_count": 23,
   "metadata": {},
   "outputs": [],
   "source": [
    "hist = [evaluate(model, val_loader)]"
   ]
  },
  {
   "cell_type": "code",
   "execution_count": 24,
   "metadata": {},
   "outputs": [
    {
     "name": "stdout",
     "output_type": "stream",
     "text": [
      "Epoch #5 ==> Val Loss: 0.6496608257293701 | Val Acc: 64.5017318725586\n",
      "Epoch #10 ==> Val Loss: 0.5692452788352966 | Val Acc: 69.857666015625\n",
      "Epoch #15 ==> Val Loss: 0.6134254336357117 | Val Acc: 70.93455505371094\n",
      "Epoch #20 ==> Val Loss: 0.5856175422668457 | Val Acc: 70.47659301757812\n",
      "Epoch #25 ==> Val Loss: 0.6408031582832336 | Val Acc: 70.49443054199219\n"
     ]
    }
   ],
   "source": [
    "hist += fit(25, 1e-4, model, train_loader, val_loader)"
   ]
  },
  {
   "cell_type": "code",
   "execution_count": 25,
   "metadata": {},
   "outputs": [
    {
     "name": "stdout",
     "output_type": "stream",
     "text": [
      "Epoch #5 ==> Val Loss: 0.5580126047134399 | Val Acc: 71.25918579101562\n",
      "Epoch #10 ==> Val Loss: 0.5602047443389893 | Val Acc: 71.11203002929688\n",
      "Epoch #15 ==> Val Loss: 0.5599163770675659 | Val Acc: 70.90022277832031\n",
      "Epoch #20 ==> Val Loss: 0.559202253818512 | Val Acc: 70.91671752929688\n",
      "Epoch #25 ==> Val Loss: 0.5578306913375854 | Val Acc: 71.16152954101562\n",
      "Epoch #30 ==> Val Loss: 0.5600782632827759 | Val Acc: 70.47659301757812\n",
      "Epoch #35 ==> Val Loss: 0.5607961416244507 | Val Acc: 70.67190551757812\n",
      "Epoch #40 ==> Val Loss: 0.5574939846992493 | Val Acc: 71.06387329101562\n",
      "Epoch #45 ==> Val Loss: 0.5592619776725769 | Val Acc: 71.11203002929688\n",
      "Epoch #50 ==> Val Loss: 0.5572963356971741 | Val Acc: 70.55909729003906\n"
     ]
    }
   ],
   "source": [
    "hist += fit(50, 1e-5, model, train_loader, val_loader)"
   ]
  },
  {
   "cell_type": "code",
   "execution_count": 26,
   "metadata": {},
   "outputs": [
    {
     "data": {
      "text/plain": [
       "{'avg_loss': tensor(0.5578, device='cuda:0'), 'avg_acc': tensor(70.7874)}"
      ]
     },
     "execution_count": 26,
     "metadata": {},
     "output_type": "execute_result"
    }
   ],
   "source": [
    "after_train = evaluate(model, test_loader)\n",
    "after_train"
   ]
  },
  {
   "cell_type": "code",
   "execution_count": 27,
   "metadata": {},
   "outputs": [
    {
     "data": {
      "image/png": "[encoded data removed]",
      "text/plain": [
       "<Figure size 432x288 with 1 Axes>"
      ]
     },
     "metadata": {
      "needs_background": "light"
     },
     "output_type": "display_data"
    }
   ],
   "source": [
    "visualize(hist)"
   ]
  },
  {
   "cell_type": "code",
   "execution_count": 28,
   "metadata": {},
   "outputs": [
    {
     "data": {
      "image/png": "[encoded data removed]",
      "text/plain": [
       "<Figure size 432x288 with 1 Axes>"
      ]
     },
     "metadata": {
      "needs_background": "light"
     },
     "output_type": "display_data"
    }
   ],
   "source": [
    "visualize(hist, acc=True)"
   ]
  },
  {
   "cell_type": "markdown",
   "metadata": {},
   "source": [
    "---"
   ]
  },
  {
   "cell_type": "code",
   "execution_count": 29,
   "metadata": {},
   "outputs": [],
   "source": [
    "class LOLModelmk3(nn.Module):\n",
    "    def __init__(self):\n",
    "        super().__init__()\n",
    "        self.fc1 = nn.Linear(input_size, 64)\n",
    "        self.fc2 = nn.Linear(64, 32)\n",
    "        self.fc3 = nn.Linear(32, 16)\n",
    "        self.fc4 = nn.Linear(16, output_size)\n",
    "        \n",
    "        self.dp = nn.Dropout(0.5)\n",
    "\n",
    "    def forward(self, x):\n",
    "        x = F.relu(self.fc1(x))\n",
    "        x = self.dp(x)\n",
    "        x = F.relu(self.fc2(x))\n",
    "        x = self.dp(x)\n",
    "        x = F.relu(self.fc3(x))\n",
    "        x = self.fc4(x)\n",
    "        return x"
   ]
  },
  {
   "cell_type": "code",
   "execution_count": 30,
   "metadata": {},
   "outputs": [],
   "source": [
    "model = LOLModelmk3().to(device)"
   ]
  },
  {
   "cell_type": "code",
   "execution_count": 31,
   "metadata": {},
   "outputs": [
    {
     "data": {
      "text/plain": [
       "LOLModelmk3(\n",
       "  (fc1): Linear(in_features=29, out_features=64, bias=True)\n",
       "  (fc2): Linear(in_features=64, out_features=32, bias=True)\n",
       "  (fc3): Linear(in_features=32, out_features=16, bias=True)\n",
       "  (fc4): Linear(in_features=16, out_features=2, bias=True)\n",
       "  (dp): Dropout(p=0.5, inplace=False)\n",
       ")"
      ]
     },
     "execution_count": 31,
     "metadata": {},
     "output_type": "execute_result"
    }
   ],
   "source": [
    "model"
   ]
  },
  {
   "cell_type": "code",
   "execution_count": 32,
   "metadata": {},
   "outputs": [
    {
     "data": {
      "text/plain": [
       "{'avg_loss': tensor(6.7823, device='cuda:0'), 'avg_acc': tensor(56.7815)}"
      ]
     },
     "execution_count": 32,
     "metadata": {},
     "output_type": "execute_result"
    }
   ],
   "source": [
    "before_train = evaluate(model, test_loader)\n",
    "before_train"
   ]
  },
  {
   "cell_type": "code",
   "execution_count": 33,
   "metadata": {},
   "outputs": [],
   "source": [
    "hist = [evaluate(model, val_loader)]"
   ]
  },
  {
   "cell_type": "code",
   "execution_count": 34,
   "metadata": {},
   "outputs": [
    {
     "name": "stdout",
     "output_type": "stream",
     "text": [
      "Epoch #5 ==> Val Loss: 0.6774834394454956 | Val Acc: 65.560791015625\n",
      "Epoch #10 ==> Val Loss: 0.6186134815216064 | Val Acc: 57.68095397949219\n",
      "Epoch #15 ==> Val Loss: 0.5955994725227356 | Val Acc: 65.52778625488281\n",
      "Epoch #20 ==> Val Loss: 0.6068494319915771 | Val Acc: 63.37935256958008\n",
      "Epoch #25 ==> Val Loss: 0.5995585918426514 | Val Acc: 66.45753479003906\n"
     ]
    }
   ],
   "source": [
    "hist += fit(25, 1e-4, model, train_loader, val_loader)"
   ]
  },
  {
   "cell_type": "code",
   "execution_count": 35,
   "metadata": {},
   "outputs": [
    {
     "name": "stdout",
     "output_type": "stream",
     "text": [
      "Epoch #5 ==> Val Loss: 0.5913016200065613 | Val Acc: 72.56171417236328\n",
      "Epoch #10 ==> Val Loss: 0.590873122215271 | Val Acc: 71.81212615966797\n",
      "Epoch #15 ==> Val Loss: 0.5919101238250732 | Val Acc: 72.12159729003906\n",
      "Epoch #20 ==> Val Loss: 0.5934287905693054 | Val Acc: 71.56999206542969\n",
      "Epoch #25 ==> Val Loss: 0.5908233523368835 | Val Acc: 72.41590118408203\n",
      "Epoch #30 ==> Val Loss: 0.589796781539917 | Val Acc: 72.12159729003906\n",
      "Epoch #35 ==> Val Loss: 0.5910670161247253 | Val Acc: 71.69931030273438\n",
      "Epoch #40 ==> Val Loss: 0.5874090194702148 | Val Acc: 71.99227905273438\n",
      "Epoch #45 ==> Val Loss: 0.5891202092170715 | Val Acc: 72.13943481445312\n",
      "Epoch #50 ==> Val Loss: 0.5898520946502686 | Val Acc: 72.30174255371094\n"
     ]
    }
   ],
   "source": [
    "hist += fit(50, 1e-5, model, train_loader, val_loader)"
   ]
  },
  {
   "cell_type": "code",
   "execution_count": 36,
   "metadata": {},
   "outputs": [
    {
     "data": {
      "text/plain": [
       "{'avg_loss': tensor(0.5739, device='cuda:0'), 'avg_acc': tensor(71.5522)}"
      ]
     },
     "execution_count": 36,
     "metadata": {},
     "output_type": "execute_result"
    }
   ],
   "source": [
    "after_train = evaluate(model, test_loader)\n",
    "after_train"
   ]
  },
  {
   "cell_type": "code",
   "execution_count": 37,
   "metadata": {},
   "outputs": [
    {
     "data": {
      "image/png": "[encoded data removed]",
      "text/plain": [
       "<Figure size 432x288 with 1 Axes>"
      ]
     },
     "metadata": {
      "needs_background": "light"
     },
     "output_type": "display_data"
    }
   ],
   "source": [
    "visualize(hist)"
   ]
  },
  {
   "cell_type": "code",
   "execution_count": 38,
   "metadata": {},
   "outputs": [
    {
     "data": {
      "image/png": "[encoded data removed]",
      "text/plain": [
       "<Figure size 432x288 with 1 Axes>"
      ]
     },
     "metadata": {
      "needs_background": "light"
     },
     "output_type": "display_data"
    }
   ],
   "source": [
    "visualize(hist, acc=True)"
   ]
  },
  {
   "cell_type": "markdown",
   "metadata": {},
   "source": [
    "---"
   ]
  },
  {
   "cell_type": "code",
   "execution_count": 39,
   "metadata": {},
   "outputs": [],
   "source": [
    "class LOLModelmk4(nn.Module):\n",
    "    def __init__(self):\n",
    "        super().__init__()\n",
    "        self.fc1 = nn.Linear(input_size, 64)\n",
    "        self.bn1 = nn.BatchNorm1d(num_features=64)\n",
    "        self.fc2 = nn.Linear(64, 32)\n",
    "        self.bn2 = nn.BatchNorm1d(num_features=32)\n",
    "        self.fc3 = nn.Linear(32, 16)\n",
    "        self.fc4 = nn.Linear(16, output_size)\n",
    "        \n",
    "        self.dp = nn.Dropout(0.5)\n",
    "\n",
    "    def forward(self, x):\n",
    "        x = F.relu(self.bn1(self.fc1(x)))\n",
    "        x = self.dp(x)\n",
    "        x = F.relu(self.bn2(self.fc2(x)))\n",
    "        x = self.dp(x)\n",
    "        x = F.relu(self.fc3(x))\n",
    "        x = self.fc4(x)\n",
    "        return x"
   ]
  },
  {
   "cell_type": "code",
   "execution_count": 40,
   "metadata": {},
   "outputs": [],
   "source": [
    "model = LOLModelmk4().to(device)"
   ]
  },
  {
   "cell_type": "code",
   "execution_count": 41,
   "metadata": {},
   "outputs": [
    {
     "data": {
      "text/plain": [
       "{'avg_loss': tensor(20.5663, device='cuda:0'), 'avg_acc': tensor(49.5041)}"
      ]
     },
     "execution_count": 41,
     "metadata": {},
     "output_type": "execute_result"
    }
   ],
   "source": [
    "before_train = evaluate(model, test_loader)\n",
    "before_train"
   ]
  },
  {
   "cell_type": "code",
   "execution_count": 42,
   "metadata": {},
   "outputs": [],
   "source": [
    "hist = [evaluate(model, val_loader)]"
   ]
  },
  {
   "cell_type": "code",
   "execution_count": 43,
   "metadata": {},
   "outputs": [
    {
     "name": "stdout",
     "output_type": "stream",
     "text": [
      "Epoch #5 ==> Val Loss: 0.6552945375442505 | Val Acc: 67.28694152832031\n",
      "Epoch #10 ==> Val Loss: 0.639779806137085 | Val Acc: 69.84384155273438\n",
      "Epoch #15 ==> Val Loss: 0.6312081813812256 | Val Acc: 69.66502380371094\n",
      "Epoch #20 ==> Val Loss: 0.6220372915267944 | Val Acc: 70.77224731445312\n",
      "Epoch #25 ==> Val Loss: 0.6169561147689819 | Val Acc: 70.86990356445312\n"
     ]
    }
   ],
   "source": [
    "hist += fit(25, 1e-3, model, train_loader, val_loader)"
   ]
  },
  {
   "cell_type": "code",
   "execution_count": 44,
   "metadata": {},
   "outputs": [
    {
     "name": "stdout",
     "output_type": "stream",
     "text": [
      "Epoch #5 ==> Val Loss: 0.6136018633842468 | Val Acc: 70.57693481445312\n",
      "Epoch #10 ==> Val Loss: 0.6102045178413391 | Val Acc: 71.16287231445312\n",
      "Epoch #15 ==> Val Loss: 0.6121746301651001 | Val Acc: 70.67459106445312\n",
      "Epoch #20 ==> Val Loss: 0.6134263277053833 | Val Acc: 70.67459106445312\n",
      "Epoch #25 ==> Val Loss: 0.6123049855232239 | Val Acc: 70.67459106445312\n",
      "Epoch #30 ==> Val Loss: 0.6091148257255554 | Val Acc: 71.04871368408203\n",
      "Epoch #35 ==> Val Loss: 0.6116454601287842 | Val Acc: 70.67459106445312\n",
      "Epoch #40 ==> Val Loss: 0.6070062518119812 | Val Acc: 71.06521606445312\n",
      "Epoch #45 ==> Val Loss: 0.6122440695762634 | Val Acc: 70.77224731445312\n",
      "Epoch #50 ==> Val Loss: 0.6089057922363281 | Val Acc: 70.67459106445312\n"
     ]
    }
   ],
   "source": [
    "hist += fit(50, 1e-4, model, train_loader, val_loader)"
   ]
  },
  {
   "cell_type": "code",
   "execution_count": 45,
   "metadata": {},
   "outputs": [
    {
     "data": {
      "text/plain": [
       "{'avg_loss': tensor(0.6012, device='cuda:0'), 'avg_acc': tensor(70.2661)}"
      ]
     },
     "execution_count": 45,
     "metadata": {},
     "output_type": "execute_result"
    }
   ],
   "source": [
    "after_train = evaluate(model, test_loader)\n",
    "after_train"
   ]
  },
  {
   "cell_type": "code",
   "execution_count": 46,
   "metadata": {},
   "outputs": [
    {
     "data": {
      "image/png": "[encoded data removed]",
      "text/plain": [
       "<Figure size 432x288 with 1 Axes>"
      ]
     },
     "metadata": {
      "needs_background": "light"
     },
     "output_type": "display_data"
    }
   ],
   "source": [
    "visualize(hist)"
   ]
  },
  {
   "cell_type": "code",
   "execution_count": 47,
   "metadata": {},
   "outputs": [
    {
     "data": {
      "image/png": "[encoded data removed]",
      "text/plain": [
       "<Figure size 432x288 with 1 Axes>"
      ]
     },
     "metadata": {
      "needs_background": "light"
     },
     "output_type": "display_data"
    }
   ],
   "source": [
    "visualize(hist, acc=True)"
   ]
  },
  {
   "cell_type": "code",
   "execution_count": 48,
   "metadata": {},
   "outputs": [
    {
     "data": {
      "application/javascript": [
       "window.require && require([\"base/js/namespace\"],function(Jupyter){Jupyter.notebook.save_checkpoint()})"
      ],
      "text/plain": [
       "<IPython.core.display.Javascript object>"
      ]
     },
     "metadata": {},
     "output_type": "display_data"
    },
    {
     "name": "stdout",
     "output_type": "stream",
     "text": [
      "[jovian] Attempting to save notebook..\n",
      "[jovian] Updating notebook \"tvelichkovt/lol-nn\" on https://jovian.ml/\n",
      "[jovian] Uploading notebook..\n",
      "[jovian] Committed successfully! https://jovian.ml/tvelichkovt/lol-nn\n"
     ]
    },
    {
     "data": {
      "text/plain": [
       "'https://jovian.ml/tvelichkovt/lol-nn'"
      ]
     },
     "execution_count": 48,
     "metadata": {},
     "output_type": "execute_result"
    }
   ],
   "source": [
    "jovian.commit(filename=proj_name, project=proj_name, environment=None)"
   ]
  },
  {
   "cell_type": "code",
   "execution_count": null,
   "metadata": {},
   "outputs": [],
   "source": []
  }
 ],
 "metadata": {
  "kernelspec": {
   "display_name": "Python 3",
   "language": "python",
   "name": "python3"
  },
  "language_info": {
   "codemirror_mode": {
    "name": "ipython",
    "version": 3
   },
   "file_extension": ".py",
   "mimetype": "text/x-python",
   "name": "python",
   "nbconvert_exporter": "python",
   "pygments_lexer": "ipython3",
   "version": "3.7.6"
  },
  "varInspector": {
   "cols": {
    "lenName": 16,
    "lenType": 16,
    "lenVar": 40
   },
   "kernels_config": {
    "python": {
     "delete_cmd_postfix": "",
     "delete_cmd_prefix": "del ",
     "library": "var_list.py",
     "varRefreshCmd": "print(var_dic_list())"
    },
    "r": {
     "delete_cmd_postfix": ") ",
     "delete_cmd_prefix": "rm(",
     "library": "var_list.r",
     "varRefreshCmd": "cat(var_dic_list()) "
    }
   },
   "types_to_exclude": [
    "module",
    "function",
    "builtin_function_or_method",
    "instance",
    "_Feature"
   ],
   "window_display": false
  }
 },
 "nbformat": 4,
 "nbformat_minor": 4
}
